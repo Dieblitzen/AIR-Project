{
 "cells": [
  {
   "cell_type": "markdown",
   "metadata": {},
   "source": [
    "## Accessing PAIRS Image Data through API \n"
   ]
  },
  {
   "cell_type": "markdown",
   "metadata": {},
   "source": [
    "Before importing api_wrapper, had to install some dependencies: \n",
    "- pip install geopandas, geojson, coloredlogs\n",
    "- conda install gdal"
   ]
  },
  {
   "cell_type": "code",
   "execution_count": 17,
   "metadata": {
    "collapsed": true
   },
   "outputs": [],
   "source": [
    "import sys\n",
    "import os\n",
    "# save present working directory so we can switch back to it \n",
    "pwd = os.getcwd()\n",
    "# change directory to get access to api_wrapper\n",
    "os.chdir('../scalable-landcover-classification/Querying')\n",
    "import api_wrapper as paw\n",
    "# switch back to original directory\n",
    "os.chdir(pwd)\n",
    "import pandas as pd\n",
    "import numpy as np\n",
    "import geojson\n",
    "import urllib\n",
    "from datetime import datetime\n",
    "from pytz import UTC\n",
    "import time\n",
    "import random\n",
    "import logging\n",
    "import requests\n",
    "from requests.auth import HTTPBasicAuth"
   ]
  },
  {
   "cell_type": "code",
   "execution_count": 18,
   "metadata": {
    "collapsed": true
   },
   "outputs": [],
   "source": [
    "PAIRS_USER = \"ams792@cornell.edu\"\n",
    "PAIRS_SERVER = \"pairs.res.ibm.com\"\n",
    "PAIRS_PASS = \"myibmpairspassword\"\n",
    "PAIRS_CREDENTIALS = (PAIRS_USER, PAIRS_PASS)\n",
    "\n",
    "LOCAL_DOWNLOAD_DIR      = './downloads'\n",
    "GET_GEOJSON_API_STRING  = '/pairs/ws/queryaois/geojson/'\n",
    "\n",
    "BASE_URI                = '/v2/query'"
   ]
  },
  {
   "cell_type": "code",
   "execution_count": 3,
   "metadata": {
    "collapsed": true
   },
   "outputs": [],
   "source": [
    "queryDef = {\"layers\" : [{\"type\": \"raster\", \"id\": \"48874\"} ],\"spatial\": {\"type\": \"square\", \"coordinates\": [\"40\", \"-77\", \"50\", \"-70\"]},\"temporal\": {\"intervals\": [{\"start\": \"2018-09-01T00:00:00Z\",\"end\": \"2018-09-30T00:00:00Z\"}]}}"
   ]
  },
  {
   "cell_type": "code",
   "execution_count": 4,
   "metadata": {
    "collapsed": true
   },
   "outputs": [],
   "source": [
    "areaQuery = paw.PAIRSQuery(\n",
    "    queryDef,\n",
    "    pairsHost   = 'https://'+PAIRS_SERVER,\n",
    "    auth        = PAIRS_CREDENTIALS,\n",
    "    downloadDir = LOCAL_DOWNLOAD_DIR,\n",
    "    baseURI     = BASE_URI,\n",
    ")"
   ]
  },
  {
   "cell_type": "code",
   "execution_count": 5,
   "metadata": {
    "collapsed": true
   },
   "outputs": [],
   "source": [
    "areaQuery.submit_query()\n"
   ]
  },
  {
   "cell_type": "code",
   "execution_count": 16,
   "metadata": {},
   "outputs": [],
   "source": [
    "r = requests.get('https://pairs.res.ibm.com/download/1538064000_20313336',auth=HTTPBasicAuth(PAIRS_USER, PAIRS_PASS))\n",
    "filename = 'data.zip'\n",
    "with open(filename, 'wb') as f:\n",
    "        f.write(r.content)\n"
   ]
  },
  {
   "cell_type": "code",
   "execution_count": null,
   "metadata": {
    "collapsed": true
   },
   "outputs": [],
   "source": []
  }
 ],
 "metadata": {
  "kernelspec": {
   "display_name": "Python 3",
   "language": "python",
   "name": "python3"
  },
  "language_info": {
   "codemirror_mode": {
    "name": "ipython",
    "version": 3
   },
   "file_extension": ".py",
   "mimetype": "text/x-python",
   "name": "python",
   "nbconvert_exporter": "python",
   "pygments_lexer": "ipython3",
   "version": "3.6.2"
  }
 },
 "nbformat": 4,
 "nbformat_minor": 2
}
