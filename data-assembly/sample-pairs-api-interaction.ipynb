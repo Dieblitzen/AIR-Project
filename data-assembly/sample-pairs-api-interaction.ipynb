{
 "cells": [
  {
   "cell_type": "markdown",
   "metadata": {},
   "source": [
    "# get started with the PAIRS API and Python requests"
   ]
  },
  {
   "cell_type": "code",
   "execution_count": 1,
   "metadata": {
    "ExecuteTime": {
     "end_time": "2018-09-29T20:13:09.352770Z",
     "start_time": "2018-09-29T20:13:09.222228Z"
    }
   },
   "outputs": [],
   "source": [
    "import requests"
   ]
  },
  {
   "cell_type": "markdown",
   "metadata": {},
   "source": [
    "## submit spatial area query to PAIRS"
   ]
  },
  {
   "cell_type": "code",
   "execution_count": 6,
   "metadata": {
    "ExecuteTime": {
     "end_time": "2018-09-29T20:30:33.184513Z",
     "start_time": "2018-09-29T20:30:33.172316Z"
    }
   },
   "outputs": [],
   "source": [
    "AUTH=('your_user', 'your_password')\n",
    "PAIRS_HOST='https://pairs.res.ibm.com'"
   ]
  },
  {
   "cell_type": "code",
   "execution_count": 2,
   "metadata": {
    "ExecuteTime": {
     "end_time": "2018-09-29T20:24:43.437476Z",
     "start_time": "2018-09-29T20:24:43.072143Z"
    }
   },
   "outputs": [],
   "source": [
    "response = requests.post(\n",
    "    json = {\n",
    "    \"layers\" : [\n",
    "        {\n",
    "            \"id\" : 48639,\n",
    "        },\n",
    "    ],\n",
    "    \"spatial\" : {\n",
    "        \"type\" : \"square\", \"coordinates\" : [42, -74, 42.1, -73.9], # [lat_min, lon_min, lat_max, lon_max] \n",
    "    },\n",
    "    \"temporal\" : {\n",
    "        \"intervals\" : [\n",
    "            {\n",
    "                \"start\":    '2018-09-20T0:0:0',\n",
    "                \"end\" :     '2018-09-21T0:0:0',\n",
    "            }\n",
    "        ]\n",
    "\n",
    "    }\n",
    "    },\n",
    "    url='{}/v2/query'.format(PAIRS_HOST),\n",
    "    auth=AUTH,\n",
    ")"
   ]
  },
  {
   "cell_type": "code",
   "execution_count": 3,
   "metadata": {
    "ExecuteTime": {
     "end_time": "2018-09-29T20:24:50.636884Z",
     "start_time": "2018-09-29T20:24:50.617511Z"
    }
   },
   "outputs": [
    {
     "data": {
      "text/plain": [
       "{u'id': u'1538236800_15883404'}"
      ]
     },
     "execution_count": 3,
     "metadata": {},
     "output_type": "execute_result"
    }
   ],
   "source": [
    "response.json()"
   ]
  },
  {
   "cell_type": "markdown",
   "metadata": {},
   "source": [
    "## Check for the status of the query"
   ]
  },
  {
   "cell_type": "code",
   "execution_count": 8,
   "metadata": {
    "ExecuteTime": {
     "end_time": "2018-09-29T20:30:52.968407Z",
     "start_time": "2018-09-29T20:30:52.791100Z"
    }
   },
   "outputs": [],
   "source": [
    "response = requests.get(\n",
    "    url='{}/v2/queryjobs/{}'.format(PAIRS_HOST, response.json()['id']),\n",
    "    auth=AUTH,\n",
    ")"
   ]
  },
  {
   "cell_type": "code",
   "execution_count": 9,
   "metadata": {
    "ExecuteTime": {
     "end_time": "2018-09-29T20:30:58.807420Z",
     "start_time": "2018-09-29T20:30:58.786411Z"
    }
   },
   "outputs": [
    {
     "data": {
      "text/plain": [
       "{u'exPercent': 0.0,\n",
       " u'flag': False,\n",
       " u'folder': u'1538252683403',\n",
       " u'hadoopId': u'1535736177095_54433',\n",
       " u'id': u'1538236800_15883404',\n",
       " u'neLat': 42.0999985,\n",
       " u'neLon': -73.9000015,\n",
       " u'nickname': None,\n",
       " u'pdStatus': None,\n",
       " u'pql': None,\n",
       " u'ready': True,\n",
       " u'rtStatus': u'Succeeded',\n",
       " u'start': 1538252683404,\n",
       " u'status': u'Succeeded',\n",
       " u'statusCode': 20,\n",
       " u'swLat': 42.0,\n",
       " u'swLon': -74.0}"
      ]
     },
     "execution_count": 9,
     "metadata": {},
     "output_type": "execute_result"
    }
   ],
   "source": [
    "response.json()"
   ]
  },
  {
   "cell_type": "markdown",
   "metadata": {},
   "source": [
    "## Download the data"
   ]
  },
  {
   "cell_type": "code",
   "execution_count": 20,
   "metadata": {
    "ExecuteTime": {
     "end_time": "2018-09-29T23:47:14.492510Z",
     "start_time": "2018-09-29T23:47:14.483396Z"
    }
   },
   "outputs": [],
   "source": [
    "import os"
   ]
  },
  {
   "cell_type": "code",
   "execution_count": 17,
   "metadata": {
    "ExecuteTime": {
     "end_time": "2018-09-29T23:45:57.344031Z",
     "start_time": "2018-09-29T23:45:54.802857Z"
    }
   },
   "outputs": [],
   "source": [
    "# note: there might be better/more stable ways to do that for large files\n",
    "download = requests.get(\n",
    "    '{}'.format('{}/v2/queryjobs/layers/{}'.format(PAIRS_HOST, response.json()['id'])),\n",
    "    auth=AUTH\n",
    ")\n",
    "with open('{}.zip'.format(response.json()['id']), 'wb') as f:\n",
    "    f.write(download.content)"
   ]
  },
  {
   "cell_type": "code",
   "execution_count": 21,
   "metadata": {
    "ExecuteTime": {
     "end_time": "2018-09-29T23:47:34.746576Z",
     "start_time": "2018-09-29T23:47:34.732580Z"
    }
   },
   "outputs": [
    {
     "data": {
      "text/plain": [
       "['.ipynb_checkpoints',\n",
       " 'sample-pairs-api-interaction.ipynb',\n",
       " '1538236800_15883404.zip']"
      ]
     },
     "execution_count": 21,
     "metadata": {},
     "output_type": "execute_result"
    }
   ],
   "source": [
    "os.listdir('.')"
   ]
  }
 ],
 "metadata": {
  "hide_input": false,
  "kernelspec": {
   "display_name": "Python 2",
   "language": "python",
   "name": "python2"
  },
  "language_info": {
   "codemirror_mode": {
    "name": "ipython",
    "version": 2
   },
   "file_extension": ".py",
   "mimetype": "text/x-python",
   "name": "python",
   "nbconvert_exporter": "python",
   "pygments_lexer": "ipython2",
   "version": "2.7.12"
  },
  "latex_envs": {
   "LaTeX_envs_menu_present": true,
   "autocomplete": true,
   "bibliofile": "biblio.bib",
   "cite_by": "apalike",
   "current_citInitial": 1,
   "eqLabelWithNumbers": true,
   "eqNumInitial": 1,
   "hotkeys": {
    "equation": "Ctrl-E",
    "itemize": "Ctrl-I"
   },
   "labels_anchors": false,
   "latex_user_defs": false,
   "report_style_numbering": false,
   "user_envs_cfg": false
  },
  "toc": {
   "colors": {
    "hover_highlight": "#DAA520",
    "navigate_num": "#000000",
    "navigate_text": "#333333",
    "running_highlight": "#FF0000",
    "selected_highlight": "#FFD700",
    "sidebar_border": "#EEEEEE",
    "wrapper_background": "#FFFFFF"
   },
   "moveMenuLeft": true,
   "nav_menu": {
    "height": "99px",
    "width": "252px"
   },
   "navigate_menu": true,
   "number_sections": true,
   "sideBar": true,
   "threshold": 4,
   "toc_cell": false,
   "toc_section_display": "block",
   "toc_window_display": false,
   "widenNotebook": false
  },
  "varInspector": {
   "cols": {
    "lenName": 16,
    "lenType": 16,
    "lenVar": 40
   },
   "kernels_config": {
    "python": {
     "delete_cmd_postfix": "",
     "delete_cmd_prefix": "del ",
     "library": "var_list.py",
     "varRefreshCmd": "print(var_dic_list())"
    },
    "r": {
     "delete_cmd_postfix": ") ",
     "delete_cmd_prefix": "rm(",
     "library": "var_list.r",
     "varRefreshCmd": "cat(var_dic_list()) "
    }
   },
   "types_to_exclude": [
    "module",
    "function",
    "builtin_function_or_method",
    "instance",
    "_Feature"
   ],
   "window_display": false
  }
 },
 "nbformat": 4,
 "nbformat_minor": 2
}
