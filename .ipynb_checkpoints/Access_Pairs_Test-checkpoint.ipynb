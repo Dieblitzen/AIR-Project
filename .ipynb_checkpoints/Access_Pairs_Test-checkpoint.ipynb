{
 "cells": [
  {
   "cell_type": "markdown",
   "metadata": {},
   "source": [
    "## Accessing PAIRS Image Data through API \n"
   ]
  },
  {
   "cell_type": "markdown",
   "metadata": {},
   "source": [
    "Before importing api_wrapper, had to install some dependencies: \n",
    "- pip install geopandas, geojson, coloredlogs\n",
    "- conda install gdal"
   ]
  },
  {
   "cell_type": "code",
   "execution_count": 29,
   "metadata": {
    "collapsed": true
   },
   "outputs": [],
   "source": [
    "import sys\n",
    "import os\n",
    "# save present working directory so we can switch back to it \n",
    "pwd = os.getcwd()\n",
    "# change directory to get access to api_wrapper\n",
    "os.chdir('../scalable-landcover-classification/Querying')\n",
    "import api_wrapper as paw\n",
    "# switch back to original directory\n",
    "os.chdir(pwd)\n",
    "import pandas as pd\n",
    "import numpy as np\n",
    "import geojson\n",
    "import urllib\n",
    "from datetime import datetime\n",
    "from pytz import UTC\n",
    "import time\n",
    "import random\n",
    "import logging\n",
    "import requests\n",
    "from requests.auth import HTTPBasicAuth\n",
    "import os, zipfile, io\n",
    "from osgeo import gdal\n",
    "import PIL"
   ]
  },
  {
   "cell_type": "markdown",
   "metadata": {},
   "source": [
    "Config"
   ]
  },
  {
   "cell_type": "code",
   "execution_count": 15,
   "metadata": {
    "collapsed": true
   },
   "outputs": [],
   "source": [
    "PAIRS_USER = \"ams792@cornell.edu\"\n",
    "PAIRS_PASS = \"myibmpairspassword\"\n",
    "server = \"https://pairs.res.ibm.com\"\n",
    "auth = (PAIRS_USER, PAIRS_PASS)\n",
    "path = './downloads' #Download path"
   ]
  },
  {
   "cell_type": "code",
   "execution_count": 30,
   "metadata": {
    "collapsed": true
   },
   "outputs": [],
   "source": [
    "response = requests.post(\n",
    "    json = {\n",
    "    \"layers\" : [\n",
    "        {\n",
    "            \"id\" : 48639,\n",
    "        },\n",
    "    ],\n",
    "    \"spatial\" : {\n",
    "        \"type\" : \"square\", \"coordinates\" : [42, -74, 43, -73], # [lat_min, lon_min, lat_max, lon_max] \n",
    "    },\n",
    "    \"temporal\" : {\n",
    "        \"intervals\" : [\n",
    "            {\n",
    "                \"start\":    '2018-09-20T0:0:0',\n",
    "                \"end\" :     '2018-09-20T0:0:0',\n",
    "            }\n",
    "        ]\n",
    "\n",
    "    }\n",
    "    },\n",
    "    url=f'{server}/v2/query',\n",
    "    auth=auth,\n",
    ")"
   ]
  },
  {
   "cell_type": "code",
   "execution_count": 31,
   "metadata": {},
   "outputs": [
    {
     "name": "stdout",
     "output_type": "stream",
     "text": [
      "ID:  1538625600_38592739\n"
     ]
    }
   ],
   "source": [
    "res = response.json()\n",
    "id = res['id']\n",
    "print(\"ID: \",id)"
   ]
  },
  {
   "cell_type": "markdown",
   "metadata": {},
   "source": [
    "Check status of query, make sure it's finished before downloading"
   ]
  },
  {
   "cell_type": "code",
   "execution_count": 33,
   "metadata": {},
   "outputs": [
    {
     "data": {
      "text/plain": [
       "{'exPercent': 0.0,\n",
       " 'flag': False,\n",
       " 'folder': '1538664192738',\n",
       " 'hadoopId': '1535736177095_64117',\n",
       " 'id': '1538625600_38592739',\n",
       " 'neLat': 43.0,\n",
       " 'neLon': -73.0,\n",
       " 'nickname': None,\n",
       " 'pdStatus': None,\n",
       " 'pql': None,\n",
       " 'ready': True,\n",
       " 'rtStatus': 'Succeeded',\n",
       " 'start': 1538664192739,\n",
       " 'status': 'Succeeded',\n",
       " 'statusCode': 20,\n",
       " 'swLat': 42.0,\n",
       " 'swLon': -74.0}"
      ]
     },
     "execution_count": 33,
     "metadata": {},
     "output_type": "execute_result"
    }
   ],
   "source": [
    "response = requests.get(\n",
    "    url=f'{server}/v2/queryjobs/{id}',\n",
    "    auth=auth,\n",
    ")\n",
    "response.json()"
   ]
  },
  {
   "cell_type": "markdown",
   "metadata": {},
   "source": [
    "Download and extract to files"
   ]
  },
  {
   "cell_type": "code",
   "execution_count": 35,
   "metadata": {},
   "outputs": [],
   "source": [
    "download = requests.get(\n",
    "    f'{server}/download/{id}', auth=auth, stream=True,\n",
    ")\n",
    "\n",
    "z = zipfile.ZipFile(io.BytesIO(download.content))\n",
    "\n",
    "## Extract to ./downloads\n",
    "z.extractall(path)"
   ]
  },
  {
   "cell_type": "markdown",
   "metadata": {},
   "source": [
    "Convert to np array"
   ]
  },
  {
   "cell_type": "code",
   "execution_count": 44,
   "metadata": {},
   "outputs": [],
   "source": [
    "## Takes file name and converts to np array\n",
    "def tiff2array(fn):\n",
    "    ## Special gdal dataset\n",
    "    dataset = gdal.Open(fn)\n",
    "    array = np.array(dataset.GetRasterBand(1).ReadAsArray())\n",
    "    return array\n",
    "\n",
    "## Will go through filenames and put the image arrays in here\n",
    "images_dict = {}\n",
    "\n",
    "## Loop through files in downloads directory (if multiple)\n",
    "for i, filename in enumerate(os.listdir(path)):\n",
    "    if filename.endswith(\".tiff\"): \n",
    "        path_to_file = path + '/' + filename\n",
    "        images_dict[i] = tiff2array(path_to_file)\n",
    "\n",
    "## Note: keys start at 1 for image_dict\n",
    "\n"
   ]
  },
  {
   "cell_type": "code",
   "execution_count": 43,
   "metadata": {},
   "outputs": [
    {
     "data": {
      "text/plain": [
       "array([[-9999., -9999., -9999., ..., -9999., -9999., -9999.],\n",
       "       [-9999., -9999., -9999., ..., -9999., -9999., -9999.],\n",
       "       [-9999., -9999., -9999., ..., -9999., -9999., -9999.],\n",
       "       ...,\n",
       "       [-9999., -9999., -9999., ..., -9999., -9999., -9999.],\n",
       "       [-9999., -9999., -9999., ..., -9999., -9999., -9999.],\n",
       "       [-9999., -9999., -9999., ..., -9999., -9999., -9999.]],\n",
       "      dtype=float32)"
      ]
     },
     "execution_count": 43,
     "metadata": {},
     "output_type": "execute_result"
    }
   ],
   "source": [
    "images_dict[1]"
   ]
  },
  {
   "cell_type": "code",
   "execution_count": null,
   "metadata": {
    "collapsed": true
   },
   "outputs": [],
   "source": []
  }
 ],
 "metadata": {
  "kernelspec": {
   "display_name": "Python 3",
   "language": "python",
   "name": "python3"
  },
  "language_info": {
   "codemirror_mode": {
    "name": "ipython",
    "version": 3
   },
   "file_extension": ".py",
   "mimetype": "text/x-python",
   "name": "python",
   "nbconvert_exporter": "python",
   "pygments_lexer": "ipython3",
   "version": "3.6.6"
  }
 },
 "nbformat": 4,
 "nbformat_minor": 2
}
