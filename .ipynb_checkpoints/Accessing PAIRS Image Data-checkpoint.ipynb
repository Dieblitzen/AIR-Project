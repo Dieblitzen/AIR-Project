{
 "cells": [
  {
   "cell_type": "markdown",
   "metadata": {},
   "source": [
    "## Accessing PAIRS Image Data through API \n"
   ]
  },
  {
   "cell_type": "markdown",
   "metadata": {},
   "source": [
    "Before importing api_wrapper, had to install some dependencies: \n",
    "- pip install geopandas, geojson, coloredlogs\n",
    "- conda install gdal"
   ]
  },
  {
   "cell_type": "code",
   "execution_count": 34,
   "metadata": {
    "collapsed": true
   },
   "outputs": [],
   "source": [
    "import api_wrapper as paw\n",
    "import pandas as pd\n",
    "import numpy as np\n",
    "import geojson\n",
    "import urllib\n",
    "from datetime import datetime\n",
    "from pytz import UTC\n",
    "import time\n",
    "import random\n",
    "import logging\n",
    "import requests\n",
    "from requests.auth import HTTPBasicAuth"
   ]
  },
  {
   "cell_type": "code",
   "execution_count": 59,
   "metadata": {
    "collapsed": true
   },
   "outputs": [],
   "source": [
    "PAIRS_USER = \"ams792@cornell.edu\"\n",
    "PAIRS_SERVER = \"pairs.res.ibm.com\"\n",
    "PAIRS_PASS = \"myibmpairspassword\"\n",
    "PAIRS_CREDENTIALS = (PAIRS_USER, PAIRS_PASS)\n",
    "\n",
    "LOCAL_DOWNLOAD_DIR      = './downloads'\n",
    "GET_GEOJSON_API_STRING  = '/pairs/ws/queryaois/geojson/'\n",
    "\n",
    "BASE_URI                = '/v2/query'"
   ]
  },
  {
   "cell_type": "code",
   "execution_count": 65,
   "metadata": {},
   "outputs": [],
   "source": [
    "queryDef = {\"layers\" : [{\"type\": \"raster\", \"id\": \"48874\"} ],\"spatial\": {\"type\": \"square\", \"coordinates\": [\"40\", \"-77\", \"50\", \"-70\"]},\"temporal\": {\"intervals\": [{\"start\": \"2018-09-01T00:00:00Z\",\"end\": \"2018-09-30T00:00:00Z\"}]}}"
   ]
  },
  {
   "cell_type": "code",
   "execution_count": 66,
   "metadata": {
    "collapsed": true
   },
   "outputs": [],
   "source": [
    "areaQuery = paw.PAIRSQuery(\n",
    "    queryDef,\n",
    "    pairsHost   = 'https://'+PAIRS_SERVER,\n",
    "    auth        = PAIRS_CREDENTIALS,\n",
    "    downloadDir = LOCAL_DOWNLOAD_DIR,\n",
    "    baseURI     = BASE_URI,\n",
    ")"
   ]
  },
  {
   "cell_type": "code",
   "execution_count": 67,
   "metadata": {},
   "outputs": [],
   "source": [
    "query = areaQuery.submit_query()\n"
   ]
  },
  {
   "cell_type": "code",
   "execution_count": 73,
   "metadata": {},
   "outputs": [
    {
     "ename": "Exception",
     "evalue": "Query submit response: 404",
     "output_type": "error",
     "traceback": [
      "\u001b[0;31m---------------------------------------------------------------------------\u001b[0m",
      "\u001b[0;31mException\u001b[0m                                 Traceback (most recent call last)",
      "\u001b[0;32m<ipython-input-73-69f9bc28adc3>\u001b[0m in \u001b[0;36m<module>\u001b[0;34m()\u001b[0m\n\u001b[0;32m----> 1\u001b[0;31m \u001b[0mareaQuery\u001b[0m\u001b[0;34m.\u001b[0m\u001b[0mpoll_till_finished\u001b[0m\u001b[0;34m(\u001b[0m\u001b[0mprintStatus\u001b[0m\u001b[0;34m=\u001b[0m\u001b[0;32mTrue\u001b[0m\u001b[0;34m)\u001b[0m\u001b[0;34m\u001b[0m\u001b[0m\n\u001b[0m",
      "\u001b[0;32m/Users/adamskrocki/IBM_CDS_Project/Cornell-Data-Science-IBM-Collaboration/scalable-map-generation-with-pairs/api_wrapper.py\u001b[0m in \u001b[0;36mpoll_till_finished\u001b[0;34m(self, pollIntSec, printStatus)\u001b[0m\n\u001b[1;32m   1088\u001b[0m                 )\n\u001b[1;32m   1089\u001b[0m         \u001b[0;32melse\u001b[0m\u001b[0;34m:\u001b[0m\u001b[0;34m\u001b[0m\u001b[0m\n\u001b[0;32m-> 1090\u001b[0;31m             \u001b[0;32mraise\u001b[0m \u001b[0mException\u001b[0m\u001b[0;34m(\u001b[0m\u001b[0;34m'Query submit response: '\u001b[0m \u001b[0;34m+\u001b[0m \u001b[0mstr\u001b[0m\u001b[0;34m(\u001b[0m\u001b[0mself\u001b[0m\u001b[0;34m.\u001b[0m\u001b[0mquerySubmit\u001b[0m\u001b[0;34m.\u001b[0m\u001b[0mstatus_code\u001b[0m\u001b[0;34m)\u001b[0m\u001b[0;34m)\u001b[0m\u001b[0;34m\u001b[0m\u001b[0m\n\u001b[0m\u001b[1;32m   1091\u001b[0m \u001b[0;34m\u001b[0m\u001b[0m\n\u001b[1;32m   1092\u001b[0m     \u001b[0;32mdef\u001b[0m \u001b[0mdownload\u001b[0m\u001b[0;34m(\u001b[0m\u001b[0mself\u001b[0m\u001b[0;34m)\u001b[0m\u001b[0;34m:\u001b[0m\u001b[0;34m\u001b[0m\u001b[0m\n",
      "\u001b[0;31mException\u001b[0m: Query submit response: 404"
     ]
    }
   ],
   "source": [
    "areaQuery.poll_till_finished(printStatus=True)"
   ]
  },
  {
   "cell_type": "code",
   "execution_count": 44,
   "metadata": {},
   "outputs": [],
   "source": [
    "r = requests.get('https://pairs.res.ibm.com/download/1538064000_20313336',auth=HTTPBasicAuth(PAIRS_USER, PAIRS_PASS))\n",
    "r.content\n"
   ]
  },
  {
   "cell_type": "code",
   "execution_count": null,
   "metadata": {
    "collapsed": true
   },
   "outputs": [],
   "source": []
  }
 ],
 "metadata": {
  "kernelspec": {
   "display_name": "Python 3",
   "language": "python",
   "name": "python3"
  },
  "language_info": {
   "codemirror_mode": {
    "name": "ipython",
    "version": 3
   },
   "file_extension": ".py",
   "mimetype": "text/x-python",
   "name": "python",
   "nbconvert_exporter": "python",
   "pygments_lexer": "ipython3",
   "version": "3.6.6"
  }
 },
 "nbformat": 4,
 "nbformat_minor": 2
}
