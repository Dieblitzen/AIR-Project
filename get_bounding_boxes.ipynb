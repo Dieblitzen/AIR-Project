{
 "cells": [
  {
   "cell_type": "code",
   "execution_count": 1,
   "metadata": {
    "collapsed": true
   },
   "outputs": [],
   "source": [
    "from minimum_bounding_box import MinimumBoundingBox\n",
    "import overpy\n",
    "\n",
    "api = overpy.Overpass()"
   ]
  },
  {
   "cell_type": "code",
   "execution_count": 10,
   "metadata": {
    "collapsed": true
   },
   "outputs": [],
   "source": [
    "def get_rect (nodes):\n",
    "    points = [(float(str(n.lat)), float(str(n.lon))) for n in nodes]\n",
    "    bounding_box = MinimumBoundingBox(points)\n",
    "#     lats = [n.lat for n in nodes]\n",
    "#     lons = [n.lon for n in nodes]\n",
    "\n",
    "#     min_lat = float(str(min(lats)))\n",
    "#     min_lon = float(str(min(lons)))\n",
    "#     max_lat = float(str(max(lats)))\n",
    "#     max_lon = float(str(max(lons)))\n",
    "    return bounding_box.corner_points\n",
    "\n",
    "# Returns: a list of the bounding box location (4 lat/long coordinates)\n",
    "#    for each building within the area defined by coordinate parameters.\n",
    "# lat_min, lat_max, long_min, long_max: represents the edges of the area\n",
    "#    that we're interested in\n",
    "def get_bounding_boxes(lat_min, lon_min, lat_max, lon_max):\n",
    "\n",
    "    #query overpass for all buildings\n",
    "    result = api.query((\"\"\"\n",
    "        way\n",
    "            ({}, {}, {}, {}) [\"building\"];\n",
    "        (._;>;);\n",
    "        out body;\n",
    "        \"\"\").format(lat_min, lon_min, lat_max, lon_max))\n",
    "\n",
    "    buildings = result.ways\n",
    "    building_coordinates = []\n",
    "    #use the imported package to find minimum bounding box\n",
    "    for building in buildings:\n",
    "        building_coordinates.append(get_rect(building.nodes))\n",
    "    return building_coordinates"
   ]
  },
  {
   "cell_type": "code",
   "execution_count": 11,
   "metadata": {},
   "outputs": [],
   "source": [
    "#Bounding box of decided area in White Plains, NY\n",
    "# lat_min = 41.0100756423\n",
    "# lat_max = 41.0338409682\n",
    "# lon_min = -73.7792749922\n",
    "# lon_max = -73.7582464736\n",
    "\n",
    "white_plain_buildings = get_bounding_boxes(41.014456, -73.769573, 41.018465,-73.765043)"
   ]
  },
  {
   "cell_type": "code",
   "execution_count": 13,
   "metadata": {},
   "outputs": [
    {
     "data": {
      "text/plain": [
       "{(41.0156034305431, -73.76725511101021),\n",
       " (41.01561906286609, -73.76713460672524),\n",
       " (41.015705099999984, -73.76726830000003),\n",
       " (41.01572073232297, -73.76714779571505)}"
      ]
     },
     "execution_count": 13,
     "metadata": {},
     "output_type": "execute_result"
    }
   ],
   "source": [
    "white_plain_buildings[0]"
   ]
  },
  {
   "cell_type": "code",
   "execution_count": null,
   "metadata": {
    "collapsed": true
   },
   "outputs": [],
   "source": []
  }
 ],
 "metadata": {
  "kernelspec": {
   "display_name": "Python 3",
   "language": "python",
   "name": "python3"
  },
  "language_info": {
   "codemirror_mode": {
    "name": "ipython",
    "version": 3
   },
   "file_extension": ".py",
   "mimetype": "text/x-python",
   "name": "python",
   "nbconvert_exporter": "python",
   "pygments_lexer": "ipython3",
   "version": "3.6.6"
  }
 },
 "nbformat": 4,
 "nbformat_minor": 2
}
